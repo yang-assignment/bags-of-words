{
 "cells": [
  {
   "cell_type": "code",
   "execution_count": 1,
   "metadata": {},
   "outputs": [],
   "source": [
    "import pandas as pd\n",
    "from sklearn.feature_extraction.text import CountVectorizer\n",
    "from sklearn.ensemble import RandomForestClassifier\n",
    "import re"
   ]
  },
  {
   "cell_type": "code",
   "execution_count": 2,
   "metadata": {},
   "outputs": [
    {
     "name": "stdout",
     "output_type": "stream",
     "text": [
      "Loading and cleaning the data...\n"
     ]
    }
   ],
   "source": [
    "print(\"Loading and cleaning the data...\")\n",
    "train = pd.read_csv(\"./data/labeledTrainData.tsv\", header=0,delimiter=\"\\t\", quoting=3)\n",
    "test = pd.read_csv(\"./data/testData.tsv\", header=0, delimiter=\"\\t\", quoting=3)\n",
    "clean_train = []\n",
    "clean_test = []\n",
    "for i in range(0,25000):\n",
    "    clean_train.append(re.sub(\"[^a-zA-Z]\", \" \", train[\"review\"][i]))\n",
    "    clean_test.append(re.sub(\"[^a-zA-Z]\", \" \", test[\"review\"][i]))"
   ]
  },
  {
   "cell_type": "code",
   "execution_count": 3,
   "metadata": {},
   "outputs": [
    {
     "name": "stdout",
     "output_type": "stream",
     "text": [
      "Creating the bag of words...\n",
      "\n"
     ]
    }
   ],
   "source": [
    "print(\"Creating the bag of words...\\n\")\n",
    "vect = CountVectorizer(ngram_range=(1,2), min_df=5, stop_words=\"english\", max_features=5000).fit(clean_train)\n",
    "train_data_features = vect.transform(clean_train)\n",
    "train_data_features = train_data_features.toarray()"
   ]
  },
  {
   "cell_type": "code",
   "execution_count": 4,
   "metadata": {
    "scrolled": true
   },
   "outputs": [
    {
     "name": "stdout",
     "output_type": "stream",
     "text": [
      "Training the forest...\n",
      "Predicting the test data...\n"
     ]
    }
   ],
   "source": [
    "print(\"Training the forest...\")\n",
    "forest = RandomForestClassifier(n_estimators=100)\n",
    "forest = forest.fit(train_data_features, train[\"sentiment\"])\n",
    "\n",
    "print(\"Predicting the test data...\")\n",
    "test_data_features = vect.transform(clean_test)\n",
    "test_data_features = test_data_features.toarray()\n",
    "result = forest.predict(test_data_features)\n",
    "output = pd.DataFrame(data={\"id\": test[\"id\"], \"sentiment\": result})\n",
    "output.to_csv(\"./data/submission.csv\", index=False, quoting=3)"
   ]
  }
 ],
 "metadata": {
  "kernelspec": {
   "display_name": "Python 3",
   "language": "python",
   "name": "python3"
  },
  "language_info": {
   "codemirror_mode": {
    "name": "ipython",
    "version": 3
   },
   "file_extension": ".py",
   "mimetype": "text/x-python",
   "name": "python",
   "nbconvert_exporter": "python",
   "pygments_lexer": "ipython3",
   "version": "3.8.5"
  }
 },
 "nbformat": 4,
 "nbformat_minor": 4
}
